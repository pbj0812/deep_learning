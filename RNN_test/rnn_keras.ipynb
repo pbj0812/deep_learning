{
 "cells": [
  {
   "cell_type": "code",
   "execution_count": 1,
   "metadata": {},
   "outputs": [],
   "source": [
    "# Recurrent Neural Network"
   ]
  },
  {
   "cell_type": "code",
   "execution_count": 2,
   "metadata": {},
   "outputs": [],
   "source": [
    "# Part 1 - Data Preprocessing"
   ]
  },
  {
   "cell_type": "code",
   "execution_count": 3,
   "metadata": {},
   "outputs": [],
   "source": [
    "# Importing the libraries"
   ]
  },
  {
   "cell_type": "code",
   "execution_count": 4,
   "metadata": {},
   "outputs": [],
   "source": [
    "import numpy as np\n",
    "import matplotlib.pyplot as plt\n",
    "import pandas as pd\n",
    "from sklearn.preprocessing import MinMaxScaler"
   ]
  },
  {
   "cell_type": "code",
   "execution_count": 5,
   "metadata": {},
   "outputs": [],
   "source": [
    "# Importing the training set\n",
    "\n",
    "dataset = pd.read_csv('full_all_factor789.csv')\n",
    "\n",
    "electric_data = pd.DataFrame(dataset.vrf_power)\n",
    "\n",
    "training_set = pd.DataFrame(dataset.temperature)\n",
    "training_set['humidity'] = dataset.humidity\n",
    "training_set['wind_speed'] = dataset.wind_speed"
   ]
  },
  {
   "cell_type": "code",
   "execution_count": 6,
   "metadata": {},
   "outputs": [
    {
     "name": "stdout",
     "output_type": "stream",
     "text": [
      "(42307, 3)\n",
      "(42307, 1)\n",
      "(41307, 3)\n",
      "(41307, 1)\n",
      "(1000, 3)\n",
      "(1000, 1)\n"
     ]
    }
   ],
   "source": [
    "X_train = np.array(training_set)\n",
    "y_train = np.array(electric_data)\n",
    "                   \n",
    "print(np.shape(X_train))\n",
    "print(np.shape(y_train))\n",
    "\n",
    "X_train = X_train[:-1000, :]\n",
    "y_train = y_train[:-1000, :]\n",
    "\n",
    "print(np.shape(X_train))\n",
    "print(np.shape(y_train))\n",
    "\n",
    "X_test = np.array(training_set)[-1000:, :]\n",
    "y_test = np.array(electric_data)[-1000:, :]\n",
    "\n",
    "print(np.shape(X_test))\n",
    "print(np.shape(y_test))"
   ]
  },
  {
   "cell_type": "code",
   "execution_count": 7,
   "metadata": {},
   "outputs": [],
   "source": [
    "X_train = np.reshape(X_train, (X_train.shape[0], X_train.shape[1], 1))"
   ]
  },
  {
   "cell_type": "code",
   "execution_count": 8,
   "metadata": {},
   "outputs": [],
   "source": [
    "# Part 2 - Building the RNN"
   ]
  },
  {
   "cell_type": "code",
   "execution_count": 9,
   "metadata": {},
   "outputs": [],
   "source": [
    "# Importing the Keras libraries and packages"
   ]
  },
  {
   "cell_type": "code",
   "execution_count": 10,
   "metadata": {},
   "outputs": [
    {
     "name": "stderr",
     "output_type": "stream",
     "text": [
      "/Users/admin/anaconda3/lib/python3.6/site-packages/h5py/__init__.py:36: FutureWarning: Conversion of the second argument of issubdtype from `float` to `np.floating` is deprecated. In future, it will be treated as `np.float64 == np.dtype(float).type`.\n",
      "  from ._conv import register_converters as _register_converters\n",
      "Using TensorFlow backend.\n"
     ]
    }
   ],
   "source": [
    "from keras.models import Sequential\n",
    "from keras.layers import Dense\n",
    "from keras.layers import LSTM\n",
    "from keras.layers import Dropout"
   ]
  },
  {
   "cell_type": "code",
   "execution_count": 11,
   "metadata": {},
   "outputs": [],
   "source": [
    "# Initializing the RNN"
   ]
  },
  {
   "cell_type": "code",
   "execution_count": 12,
   "metadata": {},
   "outputs": [],
   "source": [
    "regressor = Sequential()"
   ]
  },
  {
   "cell_type": "code",
   "execution_count": 13,
   "metadata": {},
   "outputs": [],
   "source": [
    "# Adding the first LSTM layer and some Dropout regularization"
   ]
  },
  {
   "cell_type": "code",
   "execution_count": 14,
   "metadata": {},
   "outputs": [],
   "source": [
    "regressor.add(LSTM(units = 50, return_sequences = True, input_shape = (X_train.shape[1], 1)))\n",
    "regressor.add(Dropout(0.2))"
   ]
  },
  {
   "cell_type": "code",
   "execution_count": 15,
   "metadata": {},
   "outputs": [],
   "source": [
    "# Adding a second LSTM layer and some Dropout regularization"
   ]
  },
  {
   "cell_type": "code",
   "execution_count": 16,
   "metadata": {},
   "outputs": [],
   "source": [
    "regressor.add(LSTM(units = 50, return_sequences = True))\n",
    "regressor.add(Dropout(0.2))"
   ]
  },
  {
   "cell_type": "code",
   "execution_count": 17,
   "metadata": {},
   "outputs": [],
   "source": [
    "# Adding a third LSTM layer and some Dropout regularization"
   ]
  },
  {
   "cell_type": "code",
   "execution_count": 18,
   "metadata": {},
   "outputs": [],
   "source": [
    "regressor.add(LSTM(units = 50, return_sequences = True))\n",
    "regressor.add(Dropout(0.2))"
   ]
  },
  {
   "cell_type": "code",
   "execution_count": 19,
   "metadata": {},
   "outputs": [],
   "source": [
    "# Adding a fourth LSTM layer and some Dropout regularization"
   ]
  },
  {
   "cell_type": "code",
   "execution_count": 20,
   "metadata": {},
   "outputs": [],
   "source": [
    "regressor.add(LSTM(units = 50))\n",
    "regressor.add(Dropout(0.2))"
   ]
  },
  {
   "cell_type": "code",
   "execution_count": 21,
   "metadata": {},
   "outputs": [],
   "source": [
    "# Adding the output layer"
   ]
  },
  {
   "cell_type": "code",
   "execution_count": 22,
   "metadata": {},
   "outputs": [],
   "source": [
    "regressor.add(Dense(units = 1))"
   ]
  },
  {
   "cell_type": "code",
   "execution_count": 23,
   "metadata": {},
   "outputs": [],
   "source": [
    "# Compiling the RNN"
   ]
  },
  {
   "cell_type": "code",
   "execution_count": 24,
   "metadata": {},
   "outputs": [],
   "source": [
    "regressor.compile(optimizer = 'adam', loss = 'mean_squared_error')"
   ]
  },
  {
   "cell_type": "code",
   "execution_count": 25,
   "metadata": {},
   "outputs": [],
   "source": [
    "# Fitting the RNN to the Training set"
   ]
  },
  {
   "cell_type": "code",
   "execution_count": 26,
   "metadata": {},
   "outputs": [
    {
     "name": "stdout",
     "output_type": "stream",
     "text": [
      "Epoch 1/100\n",
      "41307/41307 [==============================] - 6s 151us/step - loss: 648.5715\n",
      "Epoch 2/100\n",
      "41307/41307 [==============================] - 3s 78us/step - loss: 567.7068\n",
      "Epoch 3/100\n",
      "41307/41307 [==============================] - 3s 77us/step - loss: 526.9013\n",
      "Epoch 4/100\n",
      "41307/41307 [==============================] - 3s 82us/step - loss: 477.7003\n",
      "Epoch 5/100\n",
      "41307/41307 [==============================] - 4s 91us/step - loss: 455.8343\n",
      "Epoch 6/100\n",
      "41307/41307 [==============================] - 3s 78us/step - loss: 442.0342\n",
      "Epoch 7/100\n",
      "41307/41307 [==============================] - 3s 81us/step - loss: 432.0833\n",
      "Epoch 8/100\n",
      "41307/41307 [==============================] - 3s 78us/step - loss: 424.0302\n",
      "Epoch 9/100\n",
      "41307/41307 [==============================] - 3s 79us/step - loss: 415.7229\n",
      "Epoch 10/100\n",
      "41307/41307 [==============================] - 3s 78us/step - loss: 409.6137\n",
      "Epoch 11/100\n",
      "41307/41307 [==============================] - 3s 83us/step - loss: 405.5665\n",
      "Epoch 12/100\n",
      "41307/41307 [==============================] - 3s 81us/step - loss: 398.9716\n",
      "Epoch 13/100\n",
      "41307/41307 [==============================] - 3s 78us/step - loss: 396.3217\n",
      "Epoch 14/100\n",
      "41307/41307 [==============================] - 3s 78us/step - loss: 395.4827\n",
      "Epoch 15/100\n",
      "41307/41307 [==============================] - 4s 87us/step - loss: 396.7793\n",
      "Epoch 16/100\n",
      "41307/41307 [==============================] - 3s 82us/step - loss: 392.5391\n",
      "Epoch 17/100\n",
      "41307/41307 [==============================] - 3s 78us/step - loss: 390.5098\n",
      "Epoch 18/100\n",
      "41307/41307 [==============================] - 3s 84us/step - loss: 389.1336\n",
      "Epoch 19/100\n",
      "41307/41307 [==============================] - 3s 84us/step - loss: 386.1684\n",
      "Epoch 20/100\n",
      "41307/41307 [==============================] - 3s 78us/step - loss: 387.8236\n",
      "Epoch 21/100\n",
      "41307/41307 [==============================] - 3s 79us/step - loss: 384.7419\n",
      "Epoch 22/100\n",
      "41307/41307 [==============================] - 3s 78us/step - loss: 381.8734\n",
      "Epoch 23/100\n",
      "41307/41307 [==============================] - 3s 78us/step - loss: 382.5193\n",
      "Epoch 24/100\n",
      "41307/41307 [==============================] - 3s 81us/step - loss: 381.7628\n",
      "Epoch 25/100\n",
      "41307/41307 [==============================] - 3s 80us/step - loss: 382.3549\n",
      "Epoch 26/100\n",
      "41307/41307 [==============================] - 3s 78us/step - loss: 379.3829\n",
      "Epoch 27/100\n",
      "41307/41307 [==============================] - 5s 119us/step - loss: 378.2538\n",
      "Epoch 28/100\n",
      "41307/41307 [==============================] - 4s 103us/step - loss: 376.7857\n",
      "Epoch 29/100\n",
      "41307/41307 [==============================] - 3s 83us/step - loss: 375.9728\n",
      "Epoch 30/100\n",
      "41307/41307 [==============================] - 3s 82us/step - loss: 379.9915\n",
      "Epoch 31/100\n",
      "41307/41307 [==============================] - 4s 90us/step - loss: 377.7447\n",
      "Epoch 32/100\n",
      "41307/41307 [==============================] - 3s 84us/step - loss: 372.3503\n",
      "Epoch 33/100\n",
      "41307/41307 [==============================] - 3s 85us/step - loss: 373.7164\n",
      "Epoch 34/100\n",
      "41307/41307 [==============================] - 3s 83us/step - loss: 375.3374\n",
      "Epoch 35/100\n",
      "41307/41307 [==============================] - 3s 84us/step - loss: 375.6821\n",
      "Epoch 36/100\n",
      "41307/41307 [==============================] - 3s 81us/step - loss: 374.5944\n",
      "Epoch 37/100\n",
      "41307/41307 [==============================] - 3s 82us/step - loss: 371.9924\n",
      "Epoch 38/100\n",
      "41307/41307 [==============================] - 4s 90us/step - loss: 374.4151\n",
      "Epoch 39/100\n",
      "41307/41307 [==============================] - 3s 81us/step - loss: 371.0021\n",
      "Epoch 40/100\n",
      "41307/41307 [==============================] - 4s 96us/step - loss: 370.7260\n",
      "Epoch 41/100\n",
      "41307/41307 [==============================] - 4s 90us/step - loss: 370.3834\n",
      "Epoch 42/100\n",
      "41307/41307 [==============================] - 3s 82us/step - loss: 369.8090\n",
      "Epoch 43/100\n",
      "41307/41307 [==============================] - 3s 84us/step - loss: 372.0635\n",
      "Epoch 44/100\n",
      "41307/41307 [==============================] - 3s 83us/step - loss: 369.9508\n",
      "Epoch 45/100\n",
      "41307/41307 [==============================] - 3s 82us/step - loss: 370.5936\n",
      "Epoch 46/100\n",
      "41307/41307 [==============================] - 4s 91us/step - loss: 369.8164\n",
      "Epoch 47/100\n",
      "41307/41307 [==============================] - 3s 83us/step - loss: 369.1161\n",
      "Epoch 48/100\n",
      "41307/41307 [==============================] - 3s 83us/step - loss: 367.2933\n",
      "Epoch 49/100\n",
      "41307/41307 [==============================] - 3s 82us/step - loss: 368.0301\n",
      "Epoch 50/100\n",
      "41307/41307 [==============================] - 3s 83us/step - loss: 366.8484\n",
      "Epoch 51/100\n",
      "41307/41307 [==============================] - 4s 87us/step - loss: 367.1775\n",
      "Epoch 52/100\n",
      "41307/41307 [==============================] - 4s 95us/step - loss: 366.9634\n",
      "Epoch 53/100\n",
      "41307/41307 [==============================] - 3s 81us/step - loss: 366.8071\n",
      "Epoch 54/100\n",
      "41307/41307 [==============================] - 4s 97us/step - loss: 368.2671\n",
      "Epoch 55/100\n",
      "41307/41307 [==============================] - 4s 108us/step - loss: 368.1798\n",
      "Epoch 56/100\n",
      "41307/41307 [==============================] - 4s 89us/step - loss: 368.8177\n",
      "Epoch 57/100\n",
      "41307/41307 [==============================] - 3s 79us/step - loss: 368.6954\n",
      "Epoch 58/100\n",
      "41307/41307 [==============================] - 4s 85us/step - loss: 367.1069\n",
      "Epoch 59/100\n",
      "41307/41307 [==============================] - 3s 80us/step - loss: 366.6778\n",
      "Epoch 60/100\n",
      "41307/41307 [==============================] - 3s 80us/step - loss: 366.3651\n",
      "Epoch 61/100\n",
      "41307/41307 [==============================] - 3s 80us/step - loss: 366.1500\n",
      "Epoch 62/100\n",
      "41307/41307 [==============================] - 3s 83us/step - loss: 365.0002\n",
      "Epoch 63/100\n",
      "41307/41307 [==============================] - 4s 90us/step - loss: 365.9346\n",
      "Epoch 64/100\n",
      "41307/41307 [==============================] - 4s 93us/step - loss: 366.1776\n",
      "Epoch 65/100\n",
      "41307/41307 [==============================] - 3s 83us/step - loss: 366.8664\n",
      "Epoch 66/100\n",
      "41307/41307 [==============================] - 3s 80us/step - loss: 365.0395\n",
      "Epoch 67/100\n",
      "41307/41307 [==============================] - 3s 82us/step - loss: 367.2753\n",
      "Epoch 68/100\n",
      "41307/41307 [==============================] - 3s 84us/step - loss: 365.3761\n",
      "Epoch 69/100\n",
      "41307/41307 [==============================] - 3s 81us/step - loss: 366.4580\n",
      "Epoch 70/100\n",
      "41307/41307 [==============================] - 3s 80us/step - loss: 364.5257\n",
      "Epoch 71/100\n",
      "41307/41307 [==============================] - 3s 82us/step - loss: 365.2743\n",
      "Epoch 72/100\n",
      "41307/41307 [==============================] - 3s 81us/step - loss: 364.2155\n",
      "Epoch 73/100\n",
      "41307/41307 [==============================] - 3s 83us/step - loss: 363.5459\n",
      "Epoch 74/100\n",
      "41307/41307 [==============================] - 3s 80us/step - loss: 365.0707\n",
      "Epoch 75/100\n",
      "41307/41307 [==============================] - 3s 81us/step - loss: 362.6122\n",
      "Epoch 76/100\n",
      "41307/41307 [==============================] - 3s 80us/step - loss: 364.9274\n",
      "Epoch 77/100\n",
      "41307/41307 [==============================] - 3s 81us/step - loss: 361.9415\n",
      "Epoch 78/100\n",
      "41307/41307 [==============================] - 3s 81us/step - loss: 364.4582\n",
      "Epoch 79/100\n",
      "41307/41307 [==============================] - 3s 81us/step - loss: 366.3073\n",
      "Epoch 80/100\n",
      "41307/41307 [==============================] - 4s 96us/step - loss: 363.6441\n",
      "Epoch 81/100\n",
      "41307/41307 [==============================] - 4s 103us/step - loss: 364.5380\n",
      "Epoch 82/100\n",
      "41307/41307 [==============================] - 4s 86us/step - loss: 362.2240\n",
      "Epoch 83/100\n",
      "41307/41307 [==============================] - 3s 81us/step - loss: 361.4837\n",
      "Epoch 84/100\n",
      "41307/41307 [==============================] - 3s 82us/step - loss: 363.8674\n",
      "Epoch 85/100\n",
      "41307/41307 [==============================] - 3s 81us/step - loss: 363.5133\n",
      "Epoch 86/100\n",
      "41307/41307 [==============================] - 3s 81us/step - loss: 362.1936\n",
      "Epoch 87/100\n",
      "41307/41307 [==============================] - 3s 84us/step - loss: 363.3297\n",
      "Epoch 88/100\n",
      "41307/41307 [==============================] - 3s 81us/step - loss: 361.9857\n",
      "Epoch 89/100\n",
      "41307/41307 [==============================] - 3s 83us/step - loss: 365.1848\n",
      "Epoch 90/100\n",
      "41307/41307 [==============================] - 3s 81us/step - loss: 361.1485\n",
      "Epoch 91/100\n",
      "41307/41307 [==============================] - 3s 81us/step - loss: 363.3362\n",
      "Epoch 92/100\n"
     ]
    },
    {
     "name": "stdout",
     "output_type": "stream",
     "text": [
      "41307/41307 [==============================] - 3s 78us/step - loss: 360.3702\n",
      "Epoch 93/100\n",
      "41307/41307 [==============================] - 3s 81us/step - loss: 363.4708\n",
      "Epoch 94/100\n",
      "41307/41307 [==============================] - 3s 78us/step - loss: 361.3814\n",
      "Epoch 95/100\n",
      "41307/41307 [==============================] - 3s 78us/step - loss: 359.7512\n",
      "Epoch 96/100\n",
      "41307/41307 [==============================] - 3s 79us/step - loss: 359.8679\n",
      "Epoch 97/100\n",
      "41307/41307 [==============================] - 3s 80us/step - loss: 358.9194\n",
      "Epoch 98/100\n",
      "41307/41307 [==============================] - 3s 80us/step - loss: 362.5053\n",
      "Epoch 99/100\n",
      "41307/41307 [==============================] - 3s 80us/step - loss: 360.4979\n",
      "Epoch 100/100\n",
      "41307/41307 [==============================] - 3s 81us/step - loss: 358.3832\n"
     ]
    },
    {
     "data": {
      "text/plain": [
       "<keras.callbacks.History at 0x1a2ef17c88>"
      ]
     },
     "execution_count": 26,
     "metadata": {},
     "output_type": "execute_result"
    }
   ],
   "source": [
    "regressor.fit(X_train, y_train, epochs = 100, batch_size = 512)"
   ]
  },
  {
   "cell_type": "code",
   "execution_count": 27,
   "metadata": {},
   "outputs": [],
   "source": [
    "# Part 3 - Making the predictions and visualizing the results"
   ]
  },
  {
   "cell_type": "code",
   "execution_count": 28,
   "metadata": {},
   "outputs": [],
   "source": [
    "# Getting the predicted total"
   ]
  },
  {
   "cell_type": "code",
   "execution_count": 31,
   "metadata": {},
   "outputs": [],
   "source": [
    "X_test = np.reshape(X_test, (X_test.shape[0], X_test.shape[1], 1))\n",
    "predict = regressor.predict(X_test)"
   ]
  },
  {
   "cell_type": "code",
   "execution_count": 34,
   "metadata": {},
   "outputs": [
    {
     "data": {
      "text/plain": [
       "Text(0,0.5,'vrf_power')"
      ]
     },
     "execution_count": 34,
     "metadata": {},
     "output_type": "execute_result"
    },
    {
     "data": {
      "image/png": "[encoded data removed]",
      "text/plain": [
       "<matplotlib.figure.Figure at 0x1a30deec88>"
      ]
     },
     "metadata": {},
     "output_type": "display_data"
    }
   ],
   "source": [
    "plt.plot(predict, color = 'red', label = 'Predict')\n",
    "plt.plot(y_test, color = 'blue', label = 'Real')\n",
    "plt.title('LSTM predict vs. real')\n",
    "plt.xlabel('Time index')\n",
    "plt.ylabel('vrf_power')"
   ]
  },
  {
   "cell_type": "code",
   "execution_count": null,
   "metadata": {},
   "outputs": [],
   "source": []
  }
 ],
 "metadata": {
  "kernelspec": {
   "display_name": "Python 3",
   "language": "python",
   "name": "python3"
  },
  "language_info": {
   "codemirror_mode": {
    "name": "ipython",
    "version": 3
   },
   "file_extension": ".py",
   "mimetype": "text/x-python",
   "name": "python",
   "nbconvert_exporter": "python",
   "pygments_lexer": "ipython3",
   "version": "3.6.4"
  }
 },
 "nbformat": 4,
 "nbformat_minor": 2
}
