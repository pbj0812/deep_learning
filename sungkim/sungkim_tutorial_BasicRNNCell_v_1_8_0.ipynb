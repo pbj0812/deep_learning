{
 "cells": [
  {
   "cell_type": "code",
   "execution_count": 1,
   "metadata": {},
   "outputs": [],
   "source": [
    "# v 1.8.0 "
   ]
  },
  {
   "cell_type": "code",
   "execution_count": 2,
   "metadata": {},
   "outputs": [
    {
     "name": "stderr",
     "output_type": "stream",
     "text": [
      "/Users/admin/anaconda3/lib/python3.6/site-packages/h5py/__init__.py:36: FutureWarning: Conversion of the second argument of issubdtype from `float` to `np.floating` is deprecated. In future, it will be treated as `np.float64 == np.dtype(float).type`.\n",
      "  from ._conv import register_converters as _register_converters\n"
     ]
    }
   ],
   "source": [
    "import tensorflow as tf\n",
    "import numpy as np"
   ]
  },
  {
   "cell_type": "code",
   "execution_count": 3,
   "metadata": {},
   "outputs": [
    {
     "name": "stdout",
     "output_type": "stream",
     "text": [
      "{'h': 0, 'e': 1, 'l': 2, 'o': 3}\n"
     ]
    }
   ],
   "source": [
    "char_rdic = ['h', 'e', 'l', 'o'] # id -> char\n",
    "char_dic = {w:i for i, w in enumerate(char_rdic)} # char -> id\n",
    "print(char_dic)"
   ]
  },
  {
   "cell_type": "code",
   "execution_count": 4,
   "metadata": {},
   "outputs": [
    {
     "name": "stdout",
     "output_type": "stream",
     "text": [
      "[0, 1, 2, 2, 3]\n"
     ]
    }
   ],
   "source": [
    "ground_truth = [char_dic[c] for c in 'hello']\n",
    "print(ground_truth)"
   ]
  },
  {
   "cell_type": "code",
   "execution_count": 5,
   "metadata": {},
   "outputs": [],
   "source": [
    "x_data = np.array([[1, 0, 0, 0],\n",
    "                  [0, 1, 0, 0],\n",
    "                  [0, 0, 1, 0],\n",
    "                  [0, 0, 1, 0]],\n",
    "                 dtype = 'f')"
   ]
  },
  {
   "cell_type": "code",
   "execution_count": 6,
   "metadata": {},
   "outputs": [
    {
     "name": "stdout",
     "output_type": "stream",
     "text": [
      "Tensor(\"one_hot:0\", shape=(4, 4), dtype=float32)\n"
     ]
    }
   ],
   "source": [
    "x_data = tf.one_hot(ground_truth[:-1], len(char_dic), 1.0, 0.0, -1)\n",
    "print(x_data)"
   ]
  },
  {
   "cell_type": "code",
   "execution_count": 7,
   "metadata": {},
   "outputs": [],
   "source": [
    "# Configuration"
   ]
  },
  {
   "cell_type": "code",
   "execution_count": 8,
   "metadata": {},
   "outputs": [],
   "source": [
    "rnn_size = len(char_dic)\n",
    "batch_size = 1\n",
    "output_size = 4"
   ]
  },
  {
   "cell_type": "code",
   "execution_count": 9,
   "metadata": {},
   "outputs": [
    {
     "name": "stdout",
     "output_type": "stream",
     "text": [
      "[0, 1, 2, 2]\n"
     ]
    }
   ],
   "source": [
    "print(ground_truth[:-1])"
   ]
  },
  {
   "cell_type": "code",
   "execution_count": 10,
   "metadata": {},
   "outputs": [
    {
     "name": "stdout",
     "output_type": "stream",
     "text": [
      "<tensorflow.python.ops.rnn_cell_impl.BasicRNNCell object at 0x181c19eb70>\n"
     ]
    }
   ],
   "source": [
    "# RNN Model\n",
    "rnn_cell = tf.nn.rnn_cell.BasicRNNCell(num_units = rnn_size,\n",
    "                                       #input_size = None, # deprecated at tensorflow 0.9\n",
    "                                       #activation = tanh,\n",
    "                                       )\n",
    "print(rnn_cell)"
   ]
  },
  {
   "cell_type": "code",
   "execution_count": 11,
   "metadata": {},
   "outputs": [
    {
     "name": "stdout",
     "output_type": "stream",
     "text": [
      "Tensor(\"BasicRNNCellZeroState/zeros:0\", shape=(1, 4), dtype=float32)\n"
     ]
    }
   ],
   "source": [
    "initial_state = rnn_cell.zero_state(batch_size, tf.float32)\n",
    "print(initial_state)"
   ]
  },
  {
   "cell_type": "code",
   "execution_count": 12,
   "metadata": {},
   "outputs": [
    {
     "name": "stdout",
     "output_type": "stream",
     "text": [
      "Tensor(\"zeros:0\", shape=(1, 4), dtype=float32)\n"
     ]
    }
   ],
   "source": [
    "initial_state_1 = tf.zeros([batch_size, rnn_cell.state_size])\n",
    "print(initial_state_1)"
   ]
  },
  {
   "cell_type": "code",
   "execution_count": 13,
   "metadata": {},
   "outputs": [
    {
     "name": "stdout",
     "output_type": "stream",
     "text": [
      "[<tf.Tensor 'split:0' shape=(1, 4) dtype=float32>, <tf.Tensor 'split:1' shape=(1, 4) dtype=float32>, <tf.Tensor 'split:2' shape=(1, 4) dtype=float32>, <tf.Tensor 'split:3' shape=(1, 4) dtype=float32>]\n"
     ]
    }
   ],
   "source": [
    "x_split = tf.split(x_data, len(char_dic), 0)\n",
    "print(x_split)"
   ]
  },
  {
   "cell_type": "code",
   "execution_count": 14,
   "metadata": {},
   "outputs": [
    {
     "data": {
      "text/plain": [
       "'1.8.0'"
      ]
     },
     "execution_count": 14,
     "metadata": {},
     "output_type": "execute_result"
    }
   ],
   "source": [
    "tf.__version__"
   ]
  },
  {
   "cell_type": "code",
   "execution_count": 15,
   "metadata": {},
   "outputs": [],
   "source": [
    "outputs, state = tf.contrib.rnn.static_rnn(cell = rnn_cell, inputs = x_split, initial_state = initial_state)"
   ]
  },
  {
   "cell_type": "code",
   "execution_count": 16,
   "metadata": {},
   "outputs": [
    {
     "name": "stdout",
     "output_type": "stream",
     "text": [
      "[<tf.Tensor 'rnn/basic_rnn_cell/Tanh:0' shape=(1, 4) dtype=float32>, <tf.Tensor 'rnn/basic_rnn_cell/Tanh_1:0' shape=(1, 4) dtype=float32>, <tf.Tensor 'rnn/basic_rnn_cell/Tanh_2:0' shape=(1, 4) dtype=float32>, <tf.Tensor 'rnn/basic_rnn_cell/Tanh_3:0' shape=(1, 4) dtype=float32>]\n",
      "Tensor(\"rnn/basic_rnn_cell/Tanh_3:0\", shape=(1, 4), dtype=float32)\n"
     ]
    }
   ],
   "source": [
    "print(outputs)\n",
    "print(state)"
   ]
  },
  {
   "cell_type": "code",
   "execution_count": 17,
   "metadata": {},
   "outputs": [
    {
     "data": {
      "text/plain": [
       "TensorShape([Dimension(4), Dimension(4)])"
      ]
     },
     "execution_count": 17,
     "metadata": {},
     "output_type": "execute_result"
    }
   ],
   "source": [
    "logits = tf.reshape(tf.concat(outputs, 1),\n",
    "     [-1, rnn_size])\n",
    "logits.get_shape()"
   ]
  },
  {
   "cell_type": "code",
   "execution_count": 18,
   "metadata": {},
   "outputs": [
    {
     "data": {
      "text/plain": [
       "TensorShape([Dimension(4)])"
      ]
     },
     "execution_count": 18,
     "metadata": {},
     "output_type": "execute_result"
    }
   ],
   "source": [
    "targets = tf.reshape(ground_truth[1:], [-1])\n",
    "targets.get_shape()"
   ]
  },
  {
   "cell_type": "code",
   "execution_count": 19,
   "metadata": {},
   "outputs": [],
   "source": [
    "weights = tf.ones([len(char_dic) * batch_size])"
   ]
  },
  {
   "cell_type": "code",
   "execution_count": 20,
   "metadata": {},
   "outputs": [
    {
     "name": "stdout",
     "output_type": "stream",
     "text": [
      "Tensor(\"ones:0\", shape=(4,), dtype=float32)\n"
     ]
    }
   ],
   "source": [
    "print(weights)"
   ]
  },
  {
   "cell_type": "code",
   "execution_count": 21,
   "metadata": {},
   "outputs": [],
   "source": [
    "loss = tf.contrib.legacy_seq2seq.sequence_loss_by_example([logits], [targets], [weights])\n",
    "cost = tf.reduce_sum(loss) / batch_size\n",
    "train_op = tf.train.RMSPropOptimizer(0.01, 0.9).minimize(cost)"
   ]
  },
  {
   "cell_type": "code",
   "execution_count": 22,
   "metadata": {},
   "outputs": [
    {
     "name": "stdout",
     "output_type": "stream",
     "text": [
      "WARNING:tensorflow:From /Users/admin/anaconda3/lib/python3.6/site-packages/tensorflow/python/util/tf_should_use.py:118: initialize_all_variables (from tensorflow.python.ops.variables) is deprecated and will be removed after 2017-03-02.\n",
      "Instructions for updating:\n",
      "Use `tf.global_variables_initializer` instead.\n",
      "[2 1 0 2] ['l', 'e', 'h', 'l']\n",
      "[2 3 0 2] ['l', 'o', 'h', 'l']\n",
      "[2 3 0 2] ['l', 'o', 'h', 'l']\n",
      "[2 3 0 2] ['l', 'o', 'h', 'l']\n",
      "[2 3 0 2] ['l', 'o', 'h', 'l']\n",
      "[2 3 0 2] ['l', 'o', 'h', 'l']\n",
      "[2 3 0 2] ['l', 'o', 'h', 'l']\n",
      "[2 3 3 2] ['l', 'o', 'o', 'l']\n",
      "[2 3 3 2] ['l', 'o', 'o', 'l']\n",
      "[2 3 3 2] ['l', 'o', 'o', 'l']\n",
      "[2 3 3 2] ['l', 'o', 'o', 'l']\n",
      "[2 3 3 2] ['l', 'o', 'o', 'l']\n",
      "[2 3 3 2] ['l', 'o', 'o', 'l']\n",
      "[2 3 3 3] ['l', 'o', 'o', 'o']\n",
      "[2 3 3 3] ['l', 'o', 'o', 'o']\n",
      "[2 3 3 3] ['l', 'o', 'o', 'o']\n",
      "[2 3 2 3] ['l', 'o', 'l', 'o']\n",
      "[2 3 2 3] ['l', 'o', 'l', 'o']\n",
      "[2 3 2 3] ['l', 'o', 'l', 'o']\n",
      "[2 3 2 3] ['l', 'o', 'l', 'o']\n",
      "[2 3 2 3] ['l', 'o', 'l', 'o']\n",
      "[2 3 2 3] ['l', 'o', 'l', 'o']\n",
      "[2 3 2 3] ['l', 'o', 'l', 'o']\n",
      "[2 3 2 3] ['l', 'o', 'l', 'o']\n",
      "[2 3 2 3] ['l', 'o', 'l', 'o']\n",
      "[2 3 2 3] ['l', 'o', 'l', 'o']\n",
      "[2 3 2 3] ['l', 'o', 'l', 'o']\n",
      "[2 3 2 3] ['l', 'o', 'l', 'o']\n",
      "[2 3 2 3] ['l', 'o', 'l', 'o']\n",
      "[2 3 2 3] ['l', 'o', 'l', 'o']\n",
      "[2 3 2 3] ['l', 'o', 'l', 'o']\n",
      "[2 3 2 3] ['l', 'o', 'l', 'o']\n",
      "[2 3 2 3] ['l', 'o', 'l', 'o']\n",
      "[2 3 2 3] ['l', 'o', 'l', 'o']\n",
      "[2 3 2 3] ['l', 'o', 'l', 'o']\n",
      "[2 3 2 3] ['l', 'o', 'l', 'o']\n",
      "[2 3 2 3] ['l', 'o', 'l', 'o']\n",
      "[2 3 2 3] ['l', 'o', 'l', 'o']\n",
      "[2 3 2 3] ['l', 'o', 'l', 'o']\n",
      "[2 3 2 3] ['l', 'o', 'l', 'o']\n",
      "[2 3 2 3] ['l', 'o', 'l', 'o']\n",
      "[2 3 2 3] ['l', 'o', 'l', 'o']\n",
      "[2 3 2 3] ['l', 'o', 'l', 'o']\n",
      "[2 3 2 3] ['l', 'o', 'l', 'o']\n",
      "[2 3 2 3] ['l', 'o', 'l', 'o']\n",
      "[2 3 2 3] ['l', 'o', 'l', 'o']\n",
      "[2 3 2 3] ['l', 'o', 'l', 'o']\n",
      "[2 3 2 3] ['l', 'o', 'l', 'o']\n",
      "[2 3 2 3] ['l', 'o', 'l', 'o']\n",
      "[2 3 2 3] ['l', 'o', 'l', 'o']\n",
      "[2 2 2 3] ['l', 'l', 'l', 'o']\n",
      "[2 2 2 3] ['l', 'l', 'l', 'o']\n",
      "[2 2 2 3] ['l', 'l', 'l', 'o']\n",
      "[2 2 2 3] ['l', 'l', 'l', 'o']\n",
      "[2 2 2 3] ['l', 'l', 'l', 'o']\n",
      "[2 2 2 3] ['l', 'l', 'l', 'o']\n",
      "[1 2 2 3] ['e', 'l', 'l', 'o']\n",
      "[1 2 2 3] ['e', 'l', 'l', 'o']\n",
      "[1 2 2 3] ['e', 'l', 'l', 'o']\n",
      "[1 2 2 3] ['e', 'l', 'l', 'o']\n",
      "[1 2 2 3] ['e', 'l', 'l', 'o']\n",
      "[1 2 2 3] ['e', 'l', 'l', 'o']\n",
      "[1 2 2 3] ['e', 'l', 'l', 'o']\n",
      "[1 2 2 3] ['e', 'l', 'l', 'o']\n",
      "[1 2 2 3] ['e', 'l', 'l', 'o']\n",
      "[1 2 2 3] ['e', 'l', 'l', 'o']\n",
      "[1 2 2 3] ['e', 'l', 'l', 'o']\n",
      "[1 2 2 3] ['e', 'l', 'l', 'o']\n",
      "[1 2 2 3] ['e', 'l', 'l', 'o']\n",
      "[1 2 2 3] ['e', 'l', 'l', 'o']\n",
      "[1 2 2 3] ['e', 'l', 'l', 'o']\n",
      "[1 2 2 3] ['e', 'l', 'l', 'o']\n",
      "[1 2 2 3] ['e', 'l', 'l', 'o']\n",
      "[1 2 2 3] ['e', 'l', 'l', 'o']\n",
      "[1 2 2 3] ['e', 'l', 'l', 'o']\n",
      "[1 2 2 3] ['e', 'l', 'l', 'o']\n",
      "[1 2 2 3] ['e', 'l', 'l', 'o']\n",
      "[1 2 2 3] ['e', 'l', 'l', 'o']\n",
      "[1 2 2 3] ['e', 'l', 'l', 'o']\n",
      "[1 2 2 3] ['e', 'l', 'l', 'o']\n",
      "[1 2 2 3] ['e', 'l', 'l', 'o']\n",
      "[1 2 2 3] ['e', 'l', 'l', 'o']\n",
      "[1 2 2 3] ['e', 'l', 'l', 'o']\n",
      "[1 2 2 3] ['e', 'l', 'l', 'o']\n",
      "[1 2 2 3] ['e', 'l', 'l', 'o']\n",
      "[1 2 2 3] ['e', 'l', 'l', 'o']\n",
      "[1 2 2 3] ['e', 'l', 'l', 'o']\n",
      "[1 2 2 3] ['e', 'l', 'l', 'o']\n",
      "[1 2 2 3] ['e', 'l', 'l', 'o']\n",
      "[1 2 2 3] ['e', 'l', 'l', 'o']\n",
      "[1 2 2 3] ['e', 'l', 'l', 'o']\n",
      "[1 2 2 3] ['e', 'l', 'l', 'o']\n",
      "[1 2 2 3] ['e', 'l', 'l', 'o']\n",
      "[1 2 2 3] ['e', 'l', 'l', 'o']\n",
      "[1 2 2 3] ['e', 'l', 'l', 'o']\n",
      "[1 2 2 3] ['e', 'l', 'l', 'o']\n",
      "[1 2 2 3] ['e', 'l', 'l', 'o']\n",
      "[1 2 2 3] ['e', 'l', 'l', 'o']\n",
      "[1 2 2 3] ['e', 'l', 'l', 'o']\n",
      "[1 2 2 3] ['e', 'l', 'l', 'o']\n",
      "end\n"
     ]
    }
   ],
   "source": [
    "with tf.Session() as sess:\n",
    "    tf.initialize_all_variables().run()\n",
    "    for i in range(100):\n",
    "        sess.run(train_op)\n",
    "        result = sess.run(tf.argmax(logits, 1))\n",
    "        print(result, [char_rdic[t] for t in result])\n",
    "print('end')"
   ]
  }
 ],
 "metadata": {
  "kernelspec": {
   "display_name": "Python 3",
   "language": "python",
   "name": "python3"
  },
  "language_info": {
   "codemirror_mode": {
    "name": "ipython",
    "version": 3
   },
   "file_extension": ".py",
   "mimetype": "text/x-python",
   "name": "python",
   "nbconvert_exporter": "python",
   "pygments_lexer": "ipython3",
   "version": "3.6.4"
  }
 },
 "nbformat": 4,
 "nbformat_minor": 2
}
