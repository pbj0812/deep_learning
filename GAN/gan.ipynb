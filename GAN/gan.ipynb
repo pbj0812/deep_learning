{
 "cells": [
  {
   "cell_type": "markdown",
   "metadata": {},
   "source": [
    "### GAN 논문 링크\n",
    "<https://arxiv.org/pdf/1406.2661.pdf>"
   ]
  },
  {
   "cell_type": "markdown",
   "metadata": {},
   "source": [
    "### module/library import"
   ]
  },
  {
   "cell_type": "code",
   "execution_count": 1,
   "metadata": {},
   "outputs": [],
   "source": [
    "import torch, os\n",
    "import torchvision\n",
    "import torch.nn as nn\n",
    "import torch.nn.functional as F\n",
    "from torchvision import datasets\n",
    "from torchvision import transforms\n",
    "from torchvision.utils import save_image\n",
    "from torchvision.utils import make_grid\n",
    "import matplotlib.pyplot as plt"
   ]
  },
  {
   "cell_type": "markdown",
   "metadata": {},
   "source": [
    "### hyper parameter setting"
   ]
  },
  {
   "cell_type": "code",
   "execution_count": 20,
   "metadata": {},
   "outputs": [],
   "source": [
    "max_epoch = 20\n",
    "batch_size = 100\n",
    "lr = 0.0001\n",
    "z_dim = 64\n",
    "output_dir = './output/'\n",
    "if not os.path.exists(output_dir) : os.makedirs(output_dir)\n",
    "# paramteter 설정 및 output 폴더 없으면 output폴더 만들기"
   ]
  },
  {
   "cell_type": "markdown",
   "metadata": {},
   "source": [
    "### 데이터 준비"
   ]
  },
  {
   "cell_type": "code",
   "execution_count": 21,
   "metadata": {},
   "outputs": [],
   "source": [
    "# Image processing\n",
    "transform = transforms.Compose([\n",
    "    transforms.ToTensor(),\n",
    "    transforms.Normalize(mean=(0.5, 0.5, 0.5),\n",
    "                        std=(0.5, 0.5, 0.5))])\n",
    "# data를 torch tensor로 변환하고 normalization 진행"
   ]
  },
  {
   "cell_type": "code",
   "execution_count": 22,
   "metadata": {},
   "outputs": [
    {
     "data": {
      "text/plain": [
       "Compose(\n",
       "    ToTensor()\n",
       "    Normalize(mean=(0.5, 0.5, 0.5), std=(0.5, 0.5, 0.5))\n",
       ")"
      ]
     },
     "execution_count": 22,
     "metadata": {},
     "output_type": "execute_result"
    }
   ],
   "source": [
    "transform"
   ]
  },
  {
   "cell_type": "code",
   "execution_count": 25,
   "metadata": {},
   "outputs": [],
   "source": [
    "# MNIST dataset\n",
    "mnist = datasets.MNIST(root='./',\n",
    "                      train=True,\n",
    "                      transform=transform,\n",
    "                      download=True)\n",
    "# 현재폴더에 raw라는 이름의 폴더 생성 및 MNIST 파일 다운로드 실행"
   ]
  },
  {
   "cell_type": "code",
   "execution_count": 27,
   "metadata": {},
   "outputs": [],
   "source": [
    "# Data loader\n",
    "data_loader = torch.utils.data.DataLoader(dataset=mnist,\n",
    "                                         batch_size=batch_size,\n",
    "                                         shuffle=True,\n",
    "                                         drop_last=True)\n",
    "# dataset은 위에서 정의한 MNIST, batch_size는 미리 정의한 100, 데이터 셔플 진행하고, 데이터 끝부분이 잘렸을 경우 데이터셋 채워줌."
   ]
  },
  {
   "cell_type": "markdown",
   "metadata": {},
   "source": [
    "- torch.utils.data.DataLoader\n",
    "\n",
    "dataset (Dataset) – dataset from which to load the data.\n",
    "\n",
    "batch_size (int, optional) – how many samples per batch to load (default: 1).\n",
    "\n",
    "shuffle (bool, optional) – set to True to have the data reshuffled at every epoch (default: False).\n",
    "\n",
    "sampler (Sampler, optional) – defines the strategy to draw samples from the dataset. If specified, shuffle must be False.\n",
    "\n",
    "batch_sampler (Sampler, optional) – like sampler, but returns a batch of indices at a time. Mutually exclusive with batch_size, shuffle, sampler, and drop_last.\n",
    "\n",
    "num_workers (int, optional) – how many subprocesses to use for data loading. 0 means that the data will be loaded in the main process. (default: 0)\n",
    "\n",
    "collate_fn (callable, optional) – merges a list of samples to form a mini-batch.\n",
    "\n",
    "pin_memory (bool, optional) – If True, the data loader will copy tensors into CUDA pinned memory before returning them. If your data elements are a custom type, or your collate_fn returns a batch that is a custom type see the example below.\n",
    "\n",
    "drop_last (bool, optional) – set to True to drop the last incomplete batch, if the dataset size is not divisible by the batch size. If False and the size of dataset is not divisible by the batch size, then the last batch will be smaller. (default: False)\n",
    "\n",
    "timeout (numeric, optional) – if positive, the timeout value for collecting a batch from workers. Should always be non-negative. (default: 0)\n",
    "\n",
    "worker_init_fn (callable, optional) – If not None, this will be called on each worker subprocess with the worker id (an int in [0, num_workers - 1]) as input, after seeding and before data loading. (default: None)"
   ]
  },
  {
   "cell_type": "markdown",
   "metadata": {},
   "source": [
    "<img src=\"https://github.com/pbj0812/Hello-Generative-Model/raw/4949ad92ab4fc4756930cece247c17f3e01feadb/Day04/GAN/GAN.png\">"
   ]
  },
  {
   "cell_type": "markdown",
   "metadata": {},
   "source": [
    "### Model Definition"
   ]
  },
  {
   "cell_type": "code",
   "execution_count": 28,
   "metadata": {},
   "outputs": [],
   "source": [
    "# Discriminator\n",
    "D = nn.Sequential(\n",
    "    nn.Linear(784, 256),\n",
    "    nn.LeakyReLU(0.2),\n",
    "    nn.Linear(256, 256),\n",
    "    nn.LeakyReLU(0.2),\n",
    "    nn.Linear(256, 1),\n",
    "    nn.Sigmoid())"
   ]
  },
  {
   "cell_type": "markdown",
   "metadata": {},
   "source": [
    "- LeakyReLU\n",
    "\n",
    "LeakyReLU(x)=max(0,x)+negative_slope∗min(0,x)\n",
    "or\n",
    "\n",
    "\\text{LeakyRELU}(x) = \\begin{cases} x, &amp; \\text{ if } x \\geq 0 \\\\ \\text{negative\\_slope} \\times x, &amp; \\text{ otherwise } \\end{cases}\n",
    "LeakyRELU(x)={ \n",
    "x,\n",
    "negative_slope×x,\n",
    "​\t\n",
    "  \n",
    " if x≥0\n",
    " otherwise \n",
    "​\t"
   ]
  },
  {
   "cell_type": "code",
   "execution_count": 29,
   "metadata": {},
   "outputs": [],
   "source": [
    "# Generator\n",
    "G = nn.Sequential(\n",
    "    nn.Linear(z_dim, 256),\n",
    "    nn.LeakyReLU(0.2),\n",
    "    nn.Linear(256, 256),\n",
    "    nn.LeakyReLU(0.2),\n",
    "    nn.Linear(256, 784),\n",
    "    nn.Tanh())"
   ]
  },
  {
   "cell_type": "code",
   "execution_count": 30,
   "metadata": {},
   "outputs": [],
   "source": [
    "if torch.cuda.is_available():\n",
    "    D.cuda()\n",
    "    G.cuda()"
   ]
  },
  {
   "cell_type": "markdown",
   "metadata": {},
   "source": [
    "### LOSS/OPTIMIZER"
   ]
  },
  {
   "cell_type": "code",
   "execution_count": 32,
   "metadata": {},
   "outputs": [],
   "source": [
    "# Binary cross entropy loss and optimizer\n",
    "criterion = nn.BCELoss()\n",
    "d_optimizer = torch.optim.Adam(D.parameters(), lr=lr)\n",
    "g_optimizer = torch.optim.Adam(G.parameters(), lr=lr)"
   ]
  },
  {
   "cell_type": "markdown",
   "metadata": {},
   "source": [
    "- nn.BCELoss\n",
    "\n",
    "Creates a criterion that measures the Binary Cross Entropy between the target and the output:\n",
    "\n",
    "The unreduced (i.e. with reduction set to 'none') loss can be described as:\n",
    "\n",
    "\\ell(x, y) = L = \\{l_1,\\dots,l_N\\}^\\top, \\quad l_n = - w_n \\left[ y_n \\cdot \\log x_n + (1 - y_n) \\cdot \\log (1 - x_n) \\right],\n",
    "ℓ(x,y)=L={l \n",
    "1\n",
    "​\t\n",
    " ,…,l \n",
    "N\n",
    "​\t\n",
    " } \n",
    "⊤\n",
    " ,l \n",
    "n\n",
    "​\t\n",
    " =−w \n",
    "n\n",
    "​\t\n",
    " [y \n",
    "n\n",
    "​\t\n",
    " ⋅logx \n",
    "n\n",
    "​\t\n",
    " +(1−y \n",
    "n\n",
    "​\t\n",
    " )⋅log(1−x \n",
    "n\n",
    "​\t\n",
    " )],\n",
    "where NN is the batch size. If reduction is not 'none' (default 'mean'), then\n",
    "\n",
    "\\ell(x, y) = \\begin{cases} \\operatorname{mean}(L), &amp; \\text{if reduction} = \\text{&#x27;mean&#x27;;}\\\\ \\operatorname{sum}(L), &amp; \\text{if reduction} = \\text{&#x27;sum&#x27;.} \\end{cases}\n",
    "ℓ(x,y)={ \n",
    "mean(L),\n",
    "sum(L),\n",
    "​\t\n",
    "  \n",
    "if reduction=’mean’;\n",
    "if reduction=’sum’.\n",
    "​\t\n",
    " \n",
    "This is used for measuring the error of a reconstruction in for example an auto-encoder. Note that the targets yy should be numbers between 0 and 1."
   ]
  },
  {
   "cell_type": "markdown",
   "metadata": {},
   "source": [
    "### ETC function"
   ]
  },
  {
   "cell_type": "code",
   "execution_count": 34,
   "metadata": {},
   "outputs": [],
   "source": [
    "def denorm(x):\n",
    "    out = (x+1)/2\n",
    "    return out.clamp(0, 1)"
   ]
  },
  {
   "cell_type": "markdown",
   "metadata": {},
   "source": [
    "### training"
   ]
  },
  {
   "cell_type": "code",
   "execution_count": 35,
   "metadata": {},
   "outputs": [
    {
     "name": "stdout",
     "output_type": "stream",
     "text": [
      "---model restored---\n"
     ]
    }
   ],
   "source": [
    "# model restore if any\n",
    "try:\n",
    "    G.load_state_dict(torch.load('./generator.pkl'))\n",
    "    D.load_state_dict(torch.load('./discriminator.pkl'))\n",
    "    print(\"---model restored---\")\n",
    "except:\n",
    "    print(\"---model not restored---\")\n",
    "    pass"
   ]
  },
  {
   "cell_type": "markdown",
   "metadata": {},
   "source": [
    "모델 유무 확인"
   ]
  },
  {
   "cell_type": "code",
   "execution_count": 37,
   "metadata": {},
   "outputs": [],
   "source": [
    "# Start training\n",
    "total_batch = len(data_loader.dataset)//batch_size\n",
    "# iteration 지정"
   ]
  },
  {
   "cell_type": "code",
   "execution_count": 38,
   "metadata": {},
   "outputs": [
    {
     "data": {
      "text/plain": [
       "600"
      ]
     },
     "execution_count": 38,
     "metadata": {},
     "output_type": "execute_result"
    }
   ],
   "source": [
    "total_batch"
   ]
  },
  {
   "cell_type": "code",
   "execution_count": 61,
   "metadata": {},
   "outputs": [
    {
     "name": "stdout",
     "output_type": "stream",
     "text": [
      "epoch [0/20], step[300/600], d_loss : 0.5674, g_loss: 2.9774, D(x): 0.78, D(G(z)): 0.08\n",
      "epoch [0/20], step[600/600], d_loss : 0.5903, g_loss: 3.2454, D(x): 0.78, D(G(z)): 0.10\n",
      "epoch [1/20], step[300/600], d_loss : 0.5970, g_loss: 3.1939, D(x): 0.86, D(G(z)): 0.24\n",
      "epoch [1/20], step[600/600], d_loss : 0.5567, g_loss: 2.8642, D(x): 0.83, D(G(z)): 0.18\n",
      "epoch [2/20], step[300/600], d_loss : 0.7018, g_loss: 2.2139, D(x): 0.79, D(G(z)): 0.21\n",
      "epoch [2/20], step[600/600], d_loss : 0.3896, g_loss: 3.0951, D(x): 0.88, D(G(z)): 0.12\n",
      "epoch [3/20], step[300/600], d_loss : 0.6317, g_loss: 3.5004, D(x): 0.85, D(G(z)): 0.20\n",
      "epoch [3/20], step[600/600], d_loss : 0.4285, g_loss: 2.6195, D(x): 0.83, D(G(z)): 0.11\n",
      "epoch [4/20], step[300/600], d_loss : 0.6912, g_loss: 2.9502, D(x): 0.70, D(G(z)): 0.09\n",
      "epoch [4/20], step[600/600], d_loss : 0.6337, g_loss: 2.8302, D(x): 0.77, D(G(z)): 0.14\n",
      "epoch [5/20], step[300/600], d_loss : 0.5459, g_loss: 2.7365, D(x): 0.84, D(G(z)): 0.20\n",
      "epoch [5/20], step[600/600], d_loss : 0.6328, g_loss: 1.8955, D(x): 0.88, D(G(z)): 0.28\n",
      "epoch [6/20], step[300/600], d_loss : 0.6849, g_loss: 2.6831, D(x): 0.81, D(G(z)): 0.22\n",
      "epoch [6/20], step[600/600], d_loss : 0.5674, g_loss: 2.4228, D(x): 0.82, D(G(z)): 0.19\n",
      "epoch [7/20], step[300/600], d_loss : 0.6287, g_loss: 2.5816, D(x): 0.88, D(G(z)): 0.28\n",
      "epoch [7/20], step[600/600], d_loss : 0.5197, g_loss: 2.9358, D(x): 0.81, D(G(z)): 0.16\n",
      "epoch [8/20], step[300/600], d_loss : 0.5530, g_loss: 2.8954, D(x): 0.80, D(G(z)): 0.17\n",
      "epoch [8/20], step[600/600], d_loss : 0.6391, g_loss: 2.7140, D(x): 0.78, D(G(z)): 0.15\n",
      "epoch [9/20], step[300/600], d_loss : 0.7713, g_loss: 1.7436, D(x): 0.75, D(G(z)): 0.21\n",
      "epoch [9/20], step[600/600], d_loss : 0.8585, g_loss: 2.8200, D(x): 0.86, D(G(z)): 0.36\n",
      "epoch [10/20], step[300/600], d_loss : 0.5727, g_loss: 2.5321, D(x): 0.80, D(G(z)): 0.17\n",
      "epoch [10/20], step[600/600], d_loss : 0.5275, g_loss: 2.2796, D(x): 0.83, D(G(z)): 0.17\n",
      "epoch [11/20], step[300/600], d_loss : 0.5318, g_loss: 2.6927, D(x): 0.80, D(G(z)): 0.16\n",
      "epoch [11/20], step[600/600], d_loss : 0.7803, g_loss: 2.4072, D(x): 0.72, D(G(z)): 0.17\n",
      "epoch [12/20], step[300/600], d_loss : 0.5379, g_loss: 2.3806, D(x): 0.81, D(G(z)): 0.16\n",
      "epoch [12/20], step[600/600], d_loss : 0.5898, g_loss: 2.6542, D(x): 0.84, D(G(z)): 0.25\n",
      "epoch [13/20], step[300/600], d_loss : 0.7259, g_loss: 2.1788, D(x): 0.71, D(G(z)): 0.15\n",
      "epoch [13/20], step[600/600], d_loss : 0.5892, g_loss: 2.5650, D(x): 0.79, D(G(z)): 0.17\n",
      "epoch [14/20], step[300/600], d_loss : 0.7010, g_loss: 2.3311, D(x): 0.74, D(G(z)): 0.17\n",
      "epoch [14/20], step[600/600], d_loss : 0.6782, g_loss: 1.7538, D(x): 0.75, D(G(z)): 0.18\n",
      "epoch [15/20], step[300/600], d_loss : 0.4866, g_loss: 2.1590, D(x): 0.83, D(G(z)): 0.16\n",
      "epoch [15/20], step[600/600], d_loss : 0.7484, g_loss: 2.6884, D(x): 0.80, D(G(z)): 0.25\n",
      "epoch [16/20], step[300/600], d_loss : 0.6593, g_loss: 2.0819, D(x): 0.77, D(G(z)): 0.18\n",
      "epoch [16/20], step[600/600], d_loss : 0.7629, g_loss: 2.3136, D(x): 0.74, D(G(z)): 0.20\n",
      "epoch [17/20], step[300/600], d_loss : 0.7396, g_loss: 1.8237, D(x): 0.74, D(G(z)): 0.21\n",
      "epoch [17/20], step[600/600], d_loss : 0.7530, g_loss: 1.8389, D(x): 0.86, D(G(z)): 0.33\n",
      "epoch [18/20], step[300/600], d_loss : 0.6871, g_loss: 1.8187, D(x): 0.85, D(G(z)): 0.30\n",
      "epoch [18/20], step[600/600], d_loss : 0.6753, g_loss: 2.6304, D(x): 0.79, D(G(z)): 0.22\n",
      "epoch [19/20], step[300/600], d_loss : 0.6676, g_loss: 2.1925, D(x): 0.76, D(G(z)): 0.22\n",
      "epoch [19/20], step[600/600], d_loss : 0.7240, g_loss: 1.9102, D(x): 0.79, D(G(z)): 0.26\n"
     ]
    }
   ],
   "source": [
    "for epoch in range(max_epoch):\n",
    "    for i, (images, _) in enumerate(data_loader):\n",
    "        images = images.view(batch_size, -1).cuda()\n",
    "        # 이미지 로딩\n",
    "        \n",
    "        real_labels = torch.ones(batch_size, 1).cuda()\n",
    "        fake_labels = torch.zeros(batch_size, 1).cuda()\n",
    "        # 실제 레이블은 0으로 채우고, 가짜 레이블은 1로 채움\n",
    "        \n",
    "        outputs = D(images)\n",
    "        # 이미지를 Discriminator에 넣음 (output size 1)\n",
    "        \n",
    "        d_loss_real = criterion(outputs, real_labels)\n",
    "        # discriminator 결과값과 실제 레이블 비교함\n",
    "        \n",
    "        real_score = outputs\n",
    "        \n",
    "        \n",
    "        z = torch.randn(batch_size, z_dim).cuda()\n",
    "        fake_images = G(z).detach()\n",
    "        # detach() : 이후 연산을 중지한다.\n",
    "        outputs = D(fake_images)\n",
    "        d_loss_fake = criterion(outputs, fake_labels)\n",
    "        # 생성된 그림을 판별한다.\n",
    "        fake_score = outputs\n",
    "        \n",
    "        d_loss = d_loss_real + d_loss_fake\n",
    "        # 실제 판별과 가짜 판별을 더하여 loss 값을 구한다.\n",
    "        \n",
    "        D.zero_grad()\n",
    "        # set gradient as 0\n",
    "        \n",
    "        d_loss.backward()\n",
    "        # compute gradient of the loss\n",
    "        \n",
    "        d_optimizer.step()\n",
    "        # apply backpropagation\n",
    "        \n",
    "        z = torch.randn(batch_size, z_dim).cuda()\n",
    "        # 가짜 입력 파일 준비\n",
    "        \n",
    "        fake_images = G(z)\n",
    "        # 가짜 그림 생성\n",
    "        \n",
    "        outputs = D(fake_images)\n",
    "        # 가짜 그림 판별\n",
    "        \n",
    "        g_loss = criterion(outputs, real_labels)\n",
    "        # 가짜 그림 로스 판별\n",
    "        \n",
    "        D.zero_grad()\n",
    "        # set gradient as 0\n",
    "        \n",
    "        G.zero_grad()\n",
    "        # set gradient as 0\n",
    "        \n",
    "        g_loss.backward()\n",
    "        # g compute gradient of the loss\n",
    "        \n",
    "        g_optimizer.step()\n",
    "        # g backpropation\n",
    "        \n",
    "        if (i+1) % 300 == 0:\n",
    "            print('epoch [%d/%d], step[%d/%d], d_loss : %.4f, '\n",
    "                    'g_loss: %.4f, D(x): %.2f, D(G(z)): %.2f'\n",
    "                    %(epoch, max_epoch, i+1, total_batch, d_loss.item(), g_loss.item(),\n",
    "                     real_score.data.mean(), fake_score.data.mean()))\n",
    "                    \n",
    "    if (epoch+1) == 1:\n",
    "        images = images.view(images.size(0), 1, 28, 28)\n",
    "        save_image(denorm(images.data), output_dir+'real_iamges.png')\n",
    "        \n",
    "    fake_images = fake_images.view(fake_images.size(0), 1, 28, 28)\n",
    "    save_image(denorm(fake_images.data), output_dir+'fake_images-%d.png' %(epoch+1))\n",
    "    \n",
    "torch.save(G.state_dict(), './generator.pkl')\n",
    "torch.save(D.state_dict(), './discriminator.pkl')"
   ]
  },
  {
   "cell_type": "code",
   "execution_count": 65,
   "metadata": {},
   "outputs": [
    {
     "data": {
      "image/png": "[encoded data removed]",
      "text/plain": [
       "<Figure size 432x288 with 1 Axes>"
      ]
     },
     "metadata": {
      "needs_background": "light"
     },
     "output_type": "display_data"
    },
    {
     "data": {
      "image/png": "[encoded data removed]",
      "text/plain": [
       "<Figure size 432x288 with 1 Axes>"
      ]
     },
     "metadata": {
      "needs_background": "light"
     },
     "output_type": "display_data"
    }
   ],
   "source": [
    "z = torch.randn(batch_size, z_dim).cuda()\n",
    "fake_images = G(z)\n",
    "plt.imshow(denorm(fake_images[8].cpu().view(28, 28).data).numpy(), cmap='gray')\n",
    "plt.show()\n",
    "\n",
    "plt.imshow(make_grid(denorm(fake_images.data.view(batch_size, 1, 28, 28))).cpu().permute(1, 2, 0).numpy())\n",
    "plt.show()"
   ]
  }
 ],
 "metadata": {
  "kernelspec": {
   "display_name": "Python 3",
   "language": "python",
   "name": "python3"
  },
  "language_info": {
   "codemirror_mode": {
    "name": "ipython",
    "version": 3
   },
   "file_extension": ".py",
   "mimetype": "text/x-python",
   "name": "python",
   "nbconvert_exporter": "python",
   "pygments_lexer": "ipython3",
   "version": "3.5.6"
  }
 },
 "nbformat": 4,
 "nbformat_minor": 2
}
